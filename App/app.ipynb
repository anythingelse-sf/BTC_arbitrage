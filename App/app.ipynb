{
 "cells": [
  {
   "cell_type": "markdown",
   "id": "d77d997e-ca2f-476e-9cab-4399be65fc4e",
   "metadata": {},
   "source": [
    "### Import your libraires"
   ]
  },
  {
   "cell_type": "code",
   "execution_count": 126,
   "id": "581810e7-07ca-4f9c-89ba-3dd1adae9b1b",
   "metadata": {},
   "outputs": [],
   "source": [
    "import pandas as pd\n",
    "from pathlib import Path"
   ]
  },
  {
   "cell_type": "code",
   "execution_count": 127,
   "id": "158fb2d4-97d4-49d1-a42b-12b138d1638d",
   "metadata": {},
   "outputs": [],
   "source": [
    "## Import the bitstamp_data from our resources directory\n",
    "## Set the DateTime Index\n",
    "## Parse Dates = Treat Dates as Dates = True\n",
    "## Infer Datetime = Read different formats = True"
   ]
  },
  {
   "cell_type": "code",
   "execution_count": 128,
   "id": "b3dcfcaf-19e2-4e31-978d-7e8d5bd5559e",
   "metadata": {},
   "outputs": [
    {
     "data": {
      "text/html": [
       "<div>\n",
       "<style scoped>\n",
       "    .dataframe tbody tr th:only-of-type {\n",
       "        vertical-align: middle;\n",
       "    }\n",
       "\n",
       "    .dataframe tbody tr th {\n",
       "        vertical-align: top;\n",
       "    }\n",
       "\n",
       "    .dataframe thead th {\n",
       "        text-align: right;\n",
       "    }\n",
       "</style>\n",
       "<table border=\"1\" class=\"dataframe\">\n",
       "  <thead>\n",
       "    <tr style=\"text-align: right;\">\n",
       "      <th></th>\n",
       "      <th>Open</th>\n",
       "      <th>High</th>\n",
       "      <th>Low</th>\n",
       "      <th>Close</th>\n",
       "      <th>BTC Volume</th>\n",
       "      <th>USD Volume</th>\n",
       "      <th>Weighted Price</th>\n",
       "    </tr>\n",
       "    <tr>\n",
       "      <th>Timestamp</th>\n",
       "      <th></th>\n",
       "      <th></th>\n",
       "      <th></th>\n",
       "      <th></th>\n",
       "      <th></th>\n",
       "      <th></th>\n",
       "      <th></th>\n",
       "    </tr>\n",
       "  </thead>\n",
       "  <tbody>\n",
       "    <tr>\n",
       "      <th>2018-01-01 00:00:00</th>\n",
       "      <td>13681.04</td>\n",
       "      <td>13681.04</td>\n",
       "      <td>13637.93</td>\n",
       "      <td>$13646.48</td>\n",
       "      <td>3.334553</td>\n",
       "      <td>45482.128785</td>\n",
       "      <td>13639.647479</td>\n",
       "    </tr>\n",
       "    <tr>\n",
       "      <th>2018-01-01 00:01:00</th>\n",
       "      <td>13646.48</td>\n",
       "      <td>13658.75</td>\n",
       "      <td>13610.18</td>\n",
       "      <td>$13658.75</td>\n",
       "      <td>2.663188</td>\n",
       "      <td>36361.390888</td>\n",
       "      <td>13653.332816</td>\n",
       "    </tr>\n",
       "    <tr>\n",
       "      <th>2018-01-01 00:02:00</th>\n",
       "      <td>13616.93</td>\n",
       "      <td>13616.93</td>\n",
       "      <td>13610.06</td>\n",
       "      <td>$13610.22</td>\n",
       "      <td>0.084653</td>\n",
       "      <td>1152.144036</td>\n",
       "      <td>13610.136247</td>\n",
       "    </tr>\n",
       "    <tr>\n",
       "      <th>2018-01-01 00:03:00</th>\n",
       "      <td>13610.27</td>\n",
       "      <td>13639.09</td>\n",
       "      <td>13610.27</td>\n",
       "      <td>$13639.09</td>\n",
       "      <td>7.182986</td>\n",
       "      <td>97856.416478</td>\n",
       "      <td>13623.361128</td>\n",
       "    </tr>\n",
       "    <tr>\n",
       "      <th>2018-01-01 00:04:00</th>\n",
       "      <td>13635.35</td>\n",
       "      <td>13636.35</td>\n",
       "      <td>13620.00</td>\n",
       "      <td>$13620.0</td>\n",
       "      <td>1.069665</td>\n",
       "      <td>14582.660932</td>\n",
       "      <td>13632.923329</td>\n",
       "    </tr>\n",
       "  </tbody>\n",
       "</table>\n",
       "</div>"
      ],
      "text/plain": [
       "                         Open      High       Low      Close  BTC Volume  \\\n",
       "Timestamp                                                                  \n",
       "2018-01-01 00:00:00  13681.04  13681.04  13637.93  $13646.48    3.334553   \n",
       "2018-01-01 00:01:00  13646.48  13658.75  13610.18  $13658.75    2.663188   \n",
       "2018-01-01 00:02:00  13616.93  13616.93  13610.06  $13610.22    0.084653   \n",
       "2018-01-01 00:03:00  13610.27  13639.09  13610.27  $13639.09    7.182986   \n",
       "2018-01-01 00:04:00  13635.35  13636.35  13620.00   $13620.0    1.069665   \n",
       "\n",
       "                       USD Volume  Weighted Price  \n",
       "Timestamp                                          \n",
       "2018-01-01 00:00:00  45482.128785    13639.647479  \n",
       "2018-01-01 00:01:00  36361.390888    13653.332816  \n",
       "2018-01-01 00:02:00   1152.144036    13610.136247  \n",
       "2018-01-01 00:03:00  97856.416478    13623.361128  \n",
       "2018-01-01 00:04:00  14582.660932    13632.923329  "
      ]
     },
     "execution_count": 128,
     "metadata": {},
     "output_type": "execute_result"
    }
   ],
   "source": [
    "bitstamp_df = pd.read_csv(Path(\"../Resources/bitstamp.csv\"),\n",
    "                         index_col = \"Timestamp\",\n",
    "                         parse_dates = True,\n",
    "                         infer_datetime_format = True)\n",
    "bitstamp_df.head()\n",
    "                  \n"
   ]
  },
  {
   "cell_type": "code",
   "execution_count": 129,
   "id": "619f5b6f-8ff3-45c5-9009-7c90e50e02c0",
   "metadata": {},
   "outputs": [],
   "source": [
    "## Import the coinbase_data from our resources directory\n",
    "## Set the DateTime Index"
   ]
  },
  {
   "cell_type": "code",
   "execution_count": 130,
   "id": "017bf2b1-970a-4018-bdf0-84e4f1dbc678",
   "metadata": {},
   "outputs": [
    {
     "data": {
      "text/html": [
       "<div>\n",
       "<style scoped>\n",
       "    .dataframe tbody tr th:only-of-type {\n",
       "        vertical-align: middle;\n",
       "    }\n",
       "\n",
       "    .dataframe tbody tr th {\n",
       "        vertical-align: top;\n",
       "    }\n",
       "\n",
       "    .dataframe thead th {\n",
       "        text-align: right;\n",
       "    }\n",
       "</style>\n",
       "<table border=\"1\" class=\"dataframe\">\n",
       "  <thead>\n",
       "    <tr style=\"text-align: right;\">\n",
       "      <th></th>\n",
       "      <th>Open</th>\n",
       "      <th>High</th>\n",
       "      <th>Low</th>\n",
       "      <th>Close</th>\n",
       "      <th>BTC Volume</th>\n",
       "      <th>USD Volume</th>\n",
       "      <th>Weighted Price</th>\n",
       "    </tr>\n",
       "    <tr>\n",
       "      <th>Timestamp</th>\n",
       "      <th></th>\n",
       "      <th></th>\n",
       "      <th></th>\n",
       "      <th></th>\n",
       "      <th></th>\n",
       "      <th></th>\n",
       "      <th></th>\n",
       "    </tr>\n",
       "  </thead>\n",
       "  <tbody>\n",
       "    <tr>\n",
       "      <th>2018-01-01 00:00:00</th>\n",
       "      <td>13620.00</td>\n",
       "      <td>13620.00</td>\n",
       "      <td>13608.49</td>\n",
       "      <td>$13608.49</td>\n",
       "      <td>20.812754</td>\n",
       "      <td>283451.08537</td>\n",
       "      <td>13619.105106</td>\n",
       "    </tr>\n",
       "    <tr>\n",
       "      <th>2018-01-01 00:01:00</th>\n",
       "      <td>13607.14</td>\n",
       "      <td>13607.14</td>\n",
       "      <td>13601.66</td>\n",
       "      <td>$13601.66</td>\n",
       "      <td>13.474359</td>\n",
       "      <td>183283.97801</td>\n",
       "      <td>13602.426919</td>\n",
       "    </tr>\n",
       "    <tr>\n",
       "      <th>2018-01-01 00:02:00</th>\n",
       "      <td>13601.44</td>\n",
       "      <td>13601.44</td>\n",
       "      <td>13580.00</td>\n",
       "      <td>$13580.0</td>\n",
       "      <td>11.536360</td>\n",
       "      <td>156789.19686</td>\n",
       "      <td>13590.872506</td>\n",
       "    </tr>\n",
       "    <tr>\n",
       "      <th>2018-01-01 00:03:00</th>\n",
       "      <td>13587.31</td>\n",
       "      <td>13587.31</td>\n",
       "      <td>13542.70</td>\n",
       "      <td>$13550.34</td>\n",
       "      <td>16.328039</td>\n",
       "      <td>221413.64182</td>\n",
       "      <td>13560.332806</td>\n",
       "    </tr>\n",
       "    <tr>\n",
       "      <th>2018-01-01 00:04:00</th>\n",
       "      <td>13550.34</td>\n",
       "      <td>13585.95</td>\n",
       "      <td>13550.34</td>\n",
       "      <td>$13583.44</td>\n",
       "      <td>9.955364</td>\n",
       "      <td>135141.26944</td>\n",
       "      <td>13574.719401</td>\n",
       "    </tr>\n",
       "  </tbody>\n",
       "</table>\n",
       "</div>"
      ],
      "text/plain": [
       "                         Open      High       Low      Close  BTC Volume  \\\n",
       "Timestamp                                                                  \n",
       "2018-01-01 00:00:00  13620.00  13620.00  13608.49  $13608.49   20.812754   \n",
       "2018-01-01 00:01:00  13607.14  13607.14  13601.66  $13601.66   13.474359   \n",
       "2018-01-01 00:02:00  13601.44  13601.44  13580.00   $13580.0   11.536360   \n",
       "2018-01-01 00:03:00  13587.31  13587.31  13542.70  $13550.34   16.328039   \n",
       "2018-01-01 00:04:00  13550.34  13585.95  13550.34  $13583.44    9.955364   \n",
       "\n",
       "                       USD Volume  Weighted Price  \n",
       "Timestamp                                          \n",
       "2018-01-01 00:00:00  283451.08537    13619.105106  \n",
       "2018-01-01 00:01:00  183283.97801    13602.426919  \n",
       "2018-01-01 00:02:00  156789.19686    13590.872506  \n",
       "2018-01-01 00:03:00  221413.64182    13560.332806  \n",
       "2018-01-01 00:04:00  135141.26944    13574.719401  "
      ]
     },
     "execution_count": 130,
     "metadata": {},
     "output_type": "execute_result"
    }
   ],
   "source": [
    "coinbase_df = pd.read_csv(Path(\"../Resources/coinbase.csv\"),\n",
    "                          index_col = \"Timestamp\",\n",
    "                          parse_dates = True,\n",
    "                          infer_datetime_format = True)\n",
    "coinbase_df.head()"
   ]
  },
  {
   "cell_type": "code",
   "execution_count": 131,
   "id": "4ef3779b-a05a-4b7d-aaae-79909363959d",
   "metadata": {
    "tags": []
   },
   "outputs": [],
   "source": [
    "## Scan the data for missing values\n",
    "## Drop the NaN values, if any-"
   ]
  },
  {
   "cell_type": "code",
   "execution_count": 132,
   "id": "5788f5b9-accf-4209-ae63-008745af9923",
   "metadata": {},
   "outputs": [
    {
     "data": {
      "text/plain": [
       "Open              473\n",
       "High              473\n",
       "Low               473\n",
       "Close               0\n",
       "BTC Volume        473\n",
       "USD Volume        473\n",
       "Weighted Price    473\n",
       "dtype: int64"
      ]
     },
     "execution_count": 132,
     "metadata": {},
     "output_type": "execute_result"
    }
   ],
   "source": [
    "bitstamp_df.isnull().sum()"
   ]
  },
  {
   "cell_type": "code",
   "execution_count": 133,
   "id": "2d0e5590-7b7b-4e5e-bb4d-7e130be31bed",
   "metadata": {},
   "outputs": [
    {
     "data": {
      "text/plain": [
       "Open              218\n",
       "High              218\n",
       "Low               218\n",
       "Close               0\n",
       "BTC Volume        218\n",
       "USD Volume        218\n",
       "Weighted Price    218\n",
       "dtype: int64"
      ]
     },
     "execution_count": 133,
     "metadata": {},
     "output_type": "execute_result"
    }
   ],
   "source": [
    "coinbase_df.isnull().sum()"
   ]
  },
  {
   "cell_type": "code",
   "execution_count": 134,
   "id": "9b39449a-d2b6-4bb3-8297-fdb554cc4558",
   "metadata": {},
   "outputs": [],
   "source": [
    "## Use the string.replace function to remove the $ signs\n",
    "## Convert the columns to a float-"
   ]
  },
  {
   "cell_type": "code",
   "execution_count": 135,
   "id": "07491476-6446-4c52-ad1a-30e4d781138d",
   "metadata": {},
   "outputs": [
    {
     "name": "stderr",
     "output_type": "stream",
     "text": [
      "C:\\Users\\Fragata Capital\\.conda\\envs\\dev\\lib\\site-packages\\ipykernel_launcher.py:1: FutureWarning: The default value of regex will change from True to False in a future version. In addition, single character regular expressions will*not* be treated as literal strings when regex=True.\n",
      "  \"\"\"Entry point for launching an IPython kernel.\n"
     ]
    },
    {
     "data": {
      "text/plain": [
       "Open              float64\n",
       "High              float64\n",
       "Low               float64\n",
       "Close             float64\n",
       "BTC Volume        float64\n",
       "USD Volume        float64\n",
       "Weighted Price    float64\n",
       "dtype: object"
      ]
     },
     "execution_count": 135,
     "metadata": {},
     "output_type": "execute_result"
    }
   ],
   "source": [
    "bitstamp_df.loc[:, \"Close\"] = bitstamp_df.loc[:,\"Close\"].str.replace(\"$\", \"\")\n",
    "bitstamp_df.loc[:, \"Close\"] = bitstamp_df.loc[:,\"Close\"].astype(\"float\")\n",
    "bitstamp_df.dtypes"
   ]
  },
  {
   "cell_type": "code",
   "execution_count": 136,
   "id": "217cfc33-bdc0-4434-bb87-9fcff7e79b5a",
   "metadata": {},
   "outputs": [
    {
     "name": "stderr",
     "output_type": "stream",
     "text": [
      "C:\\Users\\Fragata Capital\\.conda\\envs\\dev\\lib\\site-packages\\ipykernel_launcher.py:1: FutureWarning: The default value of regex will change from True to False in a future version. In addition, single character regular expressions will*not* be treated as literal strings when regex=True.\n",
      "  \"\"\"Entry point for launching an IPython kernel.\n"
     ]
    },
    {
     "data": {
      "text/plain": [
       "Open              float64\n",
       "High              float64\n",
       "Low               float64\n",
       "Close             float64\n",
       "BTC Volume        float64\n",
       "USD Volume        float64\n",
       "Weighted Price    float64\n",
       "dtype: object"
      ]
     },
     "execution_count": 136,
     "metadata": {},
     "output_type": "execute_result"
    }
   ],
   "source": [
    "coinbase_df.loc[:, \"Close\"] = coinbase_df.loc[:,\"Close\"].str.replace(\"$\", \"\")\n",
    "coinbase_df.loc[:, \"Close\"] = coinbase_df.loc[:,\"Close\"].astype(\"float\")\n",
    "coinbase_df.dtypes"
   ]
  },
  {
   "cell_type": "code",
   "execution_count": 137,
   "id": "84d0615a-cbb9-418a-88a3-ff297cd1c708",
   "metadata": {},
   "outputs": [],
   "source": [
    "## Grab the summary statistics for each DataFram"
   ]
  },
  {
   "cell_type": "code",
   "execution_count": 138,
   "id": "0218e1ee-1889-452b-8aa4-dfc7fcbc3114",
   "metadata": {},
   "outputs": [
    {
     "data": {
      "text/html": [
       "<div>\n",
       "<style scoped>\n",
       "    .dataframe tbody tr th:only-of-type {\n",
       "        vertical-align: middle;\n",
       "    }\n",
       "\n",
       "    .dataframe tbody tr th {\n",
       "        vertical-align: top;\n",
       "    }\n",
       "\n",
       "    .dataframe thead th {\n",
       "        text-align: right;\n",
       "    }\n",
       "</style>\n",
       "<table border=\"1\" class=\"dataframe\">\n",
       "  <thead>\n",
       "    <tr style=\"text-align: right;\">\n",
       "      <th></th>\n",
       "      <th>Open</th>\n",
       "      <th>High</th>\n",
       "      <th>Low</th>\n",
       "      <th>Close</th>\n",
       "      <th>BTC Volume</th>\n",
       "      <th>USD Volume</th>\n",
       "      <th>Weighted Price</th>\n",
       "    </tr>\n",
       "  </thead>\n",
       "  <tbody>\n",
       "    <tr>\n",
       "      <th>count</th>\n",
       "      <td>129067.000000</td>\n",
       "      <td>129067.000000</td>\n",
       "      <td>129067.000000</td>\n",
       "      <td>129067.000000</td>\n",
       "      <td>129067.000000</td>\n",
       "      <td>1.290670e+05</td>\n",
       "      <td>129067.000000</td>\n",
       "    </tr>\n",
       "    <tr>\n",
       "      <th>mean</th>\n",
       "      <td>10459.993683</td>\n",
       "      <td>10472.970114</td>\n",
       "      <td>10446.214703</td>\n",
       "      <td>10459.842453</td>\n",
       "      <td>11.792878</td>\n",
       "      <td>1.177496e+05</td>\n",
       "      <td>10459.384448</td>\n",
       "    </tr>\n",
       "    <tr>\n",
       "      <th>std</th>\n",
       "      <td>2315.909269</td>\n",
       "      <td>2318.929342</td>\n",
       "      <td>2312.331601</td>\n",
       "      <td>2315.976088</td>\n",
       "      <td>21.799938</td>\n",
       "      <td>2.070551e+05</td>\n",
       "      <td>2315.723480</td>\n",
       "    </tr>\n",
       "    <tr>\n",
       "      <th>min</th>\n",
       "      <td>5945.950000</td>\n",
       "      <td>5975.060000</td>\n",
       "      <td>5920.720000</td>\n",
       "      <td>5944.000000</td>\n",
       "      <td>0.000039</td>\n",
       "      <td>3.333436e-01</td>\n",
       "      <td>5949.997212</td>\n",
       "    </tr>\n",
       "    <tr>\n",
       "      <th>25%</th>\n",
       "      <td>8613.985000</td>\n",
       "      <td>8621.655000</td>\n",
       "      <td>8604.440000</td>\n",
       "      <td>8613.370000</td>\n",
       "      <td>1.711874</td>\n",
       "      <td>1.773244e+04</td>\n",
       "      <td>8613.587020</td>\n",
       "    </tr>\n",
       "    <tr>\n",
       "      <th>50%</th>\n",
       "      <td>10145.300000</td>\n",
       "      <td>10156.410000</td>\n",
       "      <td>10131.740000</td>\n",
       "      <td>10145.950000</td>\n",
       "      <td>4.994095</td>\n",
       "      <td>5.188050e+04</td>\n",
       "      <td>10144.740411</td>\n",
       "    </tr>\n",
       "    <tr>\n",
       "      <th>75%</th>\n",
       "      <td>11444.455000</td>\n",
       "      <td>11453.990000</td>\n",
       "      <td>11431.970000</td>\n",
       "      <td>11444.810000</td>\n",
       "      <td>12.717950</td>\n",
       "      <td>1.313104e+05</td>\n",
       "      <td>11443.791560</td>\n",
       "    </tr>\n",
       "    <tr>\n",
       "      <th>max</th>\n",
       "      <td>17234.980000</td>\n",
       "      <td>17234.990000</td>\n",
       "      <td>17214.960000</td>\n",
       "      <td>17234.980000</td>\n",
       "      <td>580.646391</td>\n",
       "      <td>5.483271e+06</td>\n",
       "      <td>17227.810502</td>\n",
       "    </tr>\n",
       "  </tbody>\n",
       "</table>\n",
       "</div>"
      ],
      "text/plain": [
       "                Open           High            Low          Close  \\\n",
       "count  129067.000000  129067.000000  129067.000000  129067.000000   \n",
       "mean    10459.993683   10472.970114   10446.214703   10459.842453   \n",
       "std      2315.909269    2318.929342    2312.331601    2315.976088   \n",
       "min      5945.950000    5975.060000    5920.720000    5944.000000   \n",
       "25%      8613.985000    8621.655000    8604.440000    8613.370000   \n",
       "50%     10145.300000   10156.410000   10131.740000   10145.950000   \n",
       "75%     11444.455000   11453.990000   11431.970000   11444.810000   \n",
       "max     17234.980000   17234.990000   17214.960000   17234.980000   \n",
       "\n",
       "          BTC Volume    USD Volume  Weighted Price  \n",
       "count  129067.000000  1.290670e+05   129067.000000  \n",
       "mean       11.792878  1.177496e+05    10459.384448  \n",
       "std        21.799938  2.070551e+05     2315.723480  \n",
       "min         0.000039  3.333436e-01     5949.997212  \n",
       "25%         1.711874  1.773244e+04     8613.587020  \n",
       "50%         4.994095  5.188050e+04    10144.740411  \n",
       "75%        12.717950  1.313104e+05    11443.791560  \n",
       "max       580.646391  5.483271e+06    17227.810502  "
      ]
     },
     "execution_count": 138,
     "metadata": {},
     "output_type": "execute_result"
    }
   ],
   "source": [
    "bitstamp_df.describe()"
   ]
  },
  {
   "cell_type": "code",
   "execution_count": 139,
   "id": "378181d6-eaa5-4615-9eac-701dc59bf386",
   "metadata": {},
   "outputs": [
    {
     "data": {
      "text/html": [
       "<div>\n",
       "<style scoped>\n",
       "    .dataframe tbody tr th:only-of-type {\n",
       "        vertical-align: middle;\n",
       "    }\n",
       "\n",
       "    .dataframe tbody tr th {\n",
       "        vertical-align: top;\n",
       "    }\n",
       "\n",
       "    .dataframe thead th {\n",
       "        text-align: right;\n",
       "    }\n",
       "</style>\n",
       "<table border=\"1\" class=\"dataframe\">\n",
       "  <thead>\n",
       "    <tr style=\"text-align: right;\">\n",
       "      <th></th>\n",
       "      <th>Open</th>\n",
       "      <th>High</th>\n",
       "      <th>Low</th>\n",
       "      <th>Close</th>\n",
       "      <th>BTC Volume</th>\n",
       "      <th>USD Volume</th>\n",
       "      <th>Weighted Price</th>\n",
       "    </tr>\n",
       "  </thead>\n",
       "  <tbody>\n",
       "    <tr>\n",
       "      <th>count</th>\n",
       "      <td>129322.000000</td>\n",
       "      <td>129322.000000</td>\n",
       "      <td>129322.000000</td>\n",
       "      <td>129322.000000</td>\n",
       "      <td>129322.000000</td>\n",
       "      <td>1.293220e+05</td>\n",
       "      <td>129322.000000</td>\n",
       "    </tr>\n",
       "    <tr>\n",
       "      <th>mean</th>\n",
       "      <td>10449.213185</td>\n",
       "      <td>10456.118514</td>\n",
       "      <td>10441.872248</td>\n",
       "      <td>10449.140958</td>\n",
       "      <td>15.666556</td>\n",
       "      <td>1.572565e+05</td>\n",
       "      <td>10448.964130</td>\n",
       "    </tr>\n",
       "    <tr>\n",
       "      <th>std</th>\n",
       "      <td>2317.194653</td>\n",
       "      <td>2317.710389</td>\n",
       "      <td>2316.570594</td>\n",
       "      <td>2317.197419</td>\n",
       "      <td>27.481647</td>\n",
       "      <td>2.667879e+05</td>\n",
       "      <td>2317.167139</td>\n",
       "    </tr>\n",
       "    <tr>\n",
       "      <th>min</th>\n",
       "      <td>5882.300000</td>\n",
       "      <td>5907.280000</td>\n",
       "      <td>5873.000000</td>\n",
       "      <td>5882.310000</td>\n",
       "      <td>0.000442</td>\n",
       "      <td>6.699174e+00</td>\n",
       "      <td>5883.394912</td>\n",
       "    </tr>\n",
       "    <tr>\n",
       "      <th>25%</th>\n",
       "      <td>8609.230000</td>\n",
       "      <td>8613.872500</td>\n",
       "      <td>8603.505000</td>\n",
       "      <td>8609.230000</td>\n",
       "      <td>2.999125</td>\n",
       "      <td>3.071222e+04</td>\n",
       "      <td>8609.135020</td>\n",
       "    </tr>\n",
       "    <tr>\n",
       "      <th>50%</th>\n",
       "      <td>10137.440000</td>\n",
       "      <td>10145.900000</td>\n",
       "      <td>10127.880000</td>\n",
       "      <td>10137.440000</td>\n",
       "      <td>7.092572</td>\n",
       "      <td>7.461366e+04</td>\n",
       "      <td>10136.035004</td>\n",
       "    </tr>\n",
       "    <tr>\n",
       "      <th>75%</th>\n",
       "      <td>11397.522500</td>\n",
       "      <td>11400.000000</td>\n",
       "      <td>11390.000000</td>\n",
       "      <td>11397.237500</td>\n",
       "      <td>16.954279</td>\n",
       "      <td>1.754530e+05</td>\n",
       "      <td>11396.970843</td>\n",
       "    </tr>\n",
       "    <tr>\n",
       "      <th>max</th>\n",
       "      <td>17178.000000</td>\n",
       "      <td>17178.000000</td>\n",
       "      <td>17177.990000</td>\n",
       "      <td>17177.990000</td>\n",
       "      <td>959.084903</td>\n",
       "      <td>1.152334e+07</td>\n",
       "      <td>17177.995495</td>\n",
       "    </tr>\n",
       "  </tbody>\n",
       "</table>\n",
       "</div>"
      ],
      "text/plain": [
       "                Open           High            Low          Close  \\\n",
       "count  129322.000000  129322.000000  129322.000000  129322.000000   \n",
       "mean    10449.213185   10456.118514   10441.872248   10449.140958   \n",
       "std      2317.194653    2317.710389    2316.570594    2317.197419   \n",
       "min      5882.300000    5907.280000    5873.000000    5882.310000   \n",
       "25%      8609.230000    8613.872500    8603.505000    8609.230000   \n",
       "50%     10137.440000   10145.900000   10127.880000   10137.440000   \n",
       "75%     11397.522500   11400.000000   11390.000000   11397.237500   \n",
       "max     17178.000000   17178.000000   17177.990000   17177.990000   \n",
       "\n",
       "          BTC Volume    USD Volume  Weighted Price  \n",
       "count  129322.000000  1.293220e+05   129322.000000  \n",
       "mean       15.666556  1.572565e+05    10448.964130  \n",
       "std        27.481647  2.667879e+05     2317.167139  \n",
       "min         0.000442  6.699174e+00     5883.394912  \n",
       "25%         2.999125  3.071222e+04     8609.135020  \n",
       "50%         7.092572  7.461366e+04    10136.035004  \n",
       "75%        16.954279  1.754530e+05    11396.970843  \n",
       "max       959.084903  1.152334e+07    17177.995495  "
      ]
     },
     "execution_count": 139,
     "metadata": {},
     "output_type": "execute_result"
    }
   ],
   "source": [
    "coinbase_df.describe()"
   ]
  },
  {
   "cell_type": "code",
   "execution_count": 140,
   "id": "92b5fc0d-f6c8-4cd9-9611-1dd8055db73e",
   "metadata": {},
   "outputs": [],
   "source": [
    "## Plot a line graph for the data of closing prices for each DataFrame\n",
    "## Overlay the plots on top of each other- be mindful of color and labeling"
   ]
  },
  {
   "cell_type": "code",
   "execution_count": 141,
   "id": "b7ce4f4a-c103-48ef-86c2-6541d7abf2cf",
   "metadata": {},
   "outputs": [
    {
     "data": {
      "text/plain": [
       "<AxesSubplot:title={'center':'Bitstamp vs Coinbase'}, xlabel='Timestamp'>"
      ]
     },
     "execution_count": 141,
     "metadata": {},
     "output_type": "execute_result"
    },
    {
     "data": {
      "image/png": "[encoded data removed]",
      "text/plain": [
       "<Figure size 432x288 with 1 Axes>"
      ]
     },
     "metadata": {
      "needs_background": "light"
     },
     "output_type": "display_data"
    }
   ],
   "source": [
    "close_bitstamp = bitstamp_df.loc[:, \"Close\"]\n",
    "close_bitstamp.plot(legend = True, title = \"Bitstamp vs Coinbase\", color = \"Green\",label= \"BTS\")\n",
    "close_coinbase = coinbase_df.loc[:, \"Close\"]\n",
    "close_coinbase.plot(legend= True, title = \"Bitstamp vs Coinbase\", color = \"Blue\", label = \"Coin\")"
   ]
  },
  {
   "cell_type": "code",
   "execution_count": 142,
   "id": "55f7a5d0-71b1-4a37-9634-e492e1b396db",
   "metadata": {},
   "outputs": [],
   "source": [
    "## Drill down into a smaller time frames to see the arbitrage more clearly\n",
    "## Plot the line graphs on top of each other again"
   ]
  },
  {
   "cell_type": "code",
   "execution_count": 143,
   "id": "3941f007-f1eb-40ff-b587-c7e56f7505eb",
   "metadata": {},
   "outputs": [
    {
     "data": {
      "text/plain": [
       "<AxesSubplot:title={'center':'Jan 24 - Jan 31'}, xlabel='Timestamp'>"
      ]
     },
     "execution_count": 143,
     "metadata": {},
     "output_type": "execute_result"
    },
    {
     "data": {
      "image/png": "[encoded data removed]",
      "text/plain": [
       "<Figure size 432x288 with 1 Axes>"
      ]
     },
     "metadata": {
      "needs_background": "light"
     },
     "output_type": "display_data"
    }
   ],
   "source": [
    "close_bitstamp.loc[\"2018-01-24\":\"2018-01-31\"].plot(\n",
    "    legend = True, title = \"Jan 24 - Jan 31\", color = \"Green\",label= \"BTS\")\n",
    "\n",
    "close_coinbase.loc[\"2018-01-24\":\"2018-01-31\"].plot(\n",
    "    legend= True, title = \"Jan 24 - Jan 31\", color = \"Blue\", label = \"Coin\")"
   ]
  },
  {
   "cell_type": "code",
   "execution_count": 144,
   "id": "73d945c1-bfe6-4971-b73d-b4de87e453a7",
   "metadata": {},
   "outputs": [],
   "source": [
    "## Select a specific date\n",
    "## We're going to build it to plug in any date\n",
    "## See \"DRY\""
   ]
  },
  {
   "cell_type": "code",
   "execution_count": 146,
   "id": "da5016e4-5747-4e8c-a4de-f6750ecb6670",
   "metadata": {},
   "outputs": [],
   "source": [
    "## Plot with a box plot"
   ]
  },
  {
   "cell_type": "code",
   "execution_count": 147,
   "id": "824ec144-93f6-4199-acc2-eff276d4043b",
   "metadata": {},
   "outputs": [
    {
     "data": {
      "text/plain": [
       "<AxesSubplot:title={'center':'Bitstamp'}>"
      ]
     },
     "execution_count": 147,
     "metadata": {},
     "output_type": "execute_result"
    },
    {
     "data": {
      "image/png": "[encoded data removed]",
      "text/plain": [
       "<Figure size 432x288 with 1 Axes>"
      ]
     },
     "metadata": {
      "needs_background": "light"
     },
     "output_type": "display_data"
    }
   ],
   "source": [
    "bitstamp_df.loc[\"2018-01-28\",\"Close\"].plot.box(title=\"Bitstamp\")"
   ]
  },
  {
   "cell_type": "code",
   "execution_count": 148,
   "id": "0281085f-47db-491a-8f27-9ca0ddd8850d",
   "metadata": {},
   "outputs": [
    {
     "data": {
      "text/plain": [
       "<AxesSubplot:title={'center':'Coinbase'}>"
      ]
     },
     "execution_count": 148,
     "metadata": {},
     "output_type": "execute_result"
    },
    {
     "data": {
      "image/png": "[encoded data removed]",
      "text/plain": [
       "<Figure size 432x288 with 1 Axes>"
      ]
     },
     "metadata": {
      "needs_background": "light"
     },
     "output_type": "display_data"
    }
   ],
   "source": [
    "coinbase_df.loc[\"2018-01-28\",\"Close\"].plot.box(title=\"Coinbase\")"
   ]
  },
  {
   "cell_type": "code",
   "execution_count": 145,
   "id": "523267da-00d0-4aba-a6fc-dfa9135822ff",
   "metadata": {},
   "outputs": [
    {
     "data": {
      "text/plain": [
       "<AxesSubplot:title={'center':'January 28th'}, xlabel='Timestamp'>"
      ]
     },
     "execution_count": 145,
     "metadata": {},
     "output_type": "execute_result"
    },
    {
     "data": {
      "image/png": "[encoded data removed]",
      "text/plain": [
       "<Figure size 432x288 with 1 Axes>"
      ]
     },
     "metadata": {
      "needs_background": "light"
     },
     "output_type": "display_data"
    }
   ],
   "source": [
    "close_bitstamp.loc[\"2018-01-28\"].plot(\n",
    "    legend = True, title = \"January 28th\", color = \"Green\",label= \"BTS\")\n",
    "\n",
    "close_coinbase.loc[\"2018-01-28\"].plot(\n",
    "    legend= True, title = \"January 28th\", color = \"Blue\", label = \"Coin\")"
   ]
  },
  {
   "cell_type": "code",
   "execution_count": 149,
   "id": "3464cea0-5b76-4017-ad9e-ff5538ae184a",
   "metadata": {},
   "outputs": [],
   "source": [
    "## Measure the arbitrage"
   ]
  },
  {
   "cell_type": "code",
   "execution_count": 165,
   "id": "9b2af99c-7698-4faf-8d00-3b9d28e3cf92",
   "metadata": {},
   "outputs": [
    {
     "data": {
      "text/plain": [
       "Timestamp\n",
       "2018-01-28 00:00:00    275.38\n",
       "2018-01-28 00:01:00    275.00\n",
       "2018-01-28 00:02:00    268.77\n",
       "2018-01-28 00:03:00    275.03\n",
       "2018-01-28 00:04:00    294.26\n",
       "                        ...  \n",
       "2018-01-28 23:55:00    220.10\n",
       "2018-01-28 23:56:00    195.11\n",
       "2018-01-28 23:57:00    208.74\n",
       "2018-01-28 23:58:00    195.12\n",
       "2018-01-28 23:59:00    192.63\n",
       "Name: Close, Length: 1440, dtype: float64"
      ]
     },
     "execution_count": 165,
     "metadata": {},
     "output_type": "execute_result"
    }
   ],
   "source": [
    "arbitrage_spread = close_bitstamp.loc[\"2018-01-28\"] - close_coinbase.loc[\"2018-01-28\"]\n",
    "arbitrage_spread"
   ]
  },
  {
   "cell_type": "code",
   "execution_count": 166,
   "id": "14c29c67-d185-48c6-b178-9efa8f6b6d37",
   "metadata": {},
   "outputs": [
    {
     "data": {
      "text/plain": [
       "count    1436.000000\n",
       "mean      247.552326\n",
       "std        68.343472\n",
       "min        55.030000\n",
       "25%       210.022500\n",
       "50%       251.180000\n",
       "75%       290.925000\n",
       "max       439.010000\n",
       "Name: Close, dtype: float64"
      ]
     },
     "execution_count": 166,
     "metadata": {},
     "output_type": "execute_result"
    }
   ],
   "source": [
    "arbitrage_spread.describe()"
   ]
  },
  {
   "cell_type": "code",
   "execution_count": 151,
   "id": "fa3cd038-917e-449d-9cff-82462e1ee44d",
   "metadata": {},
   "outputs": [],
   "source": [
    "## Calculate the Spread Return"
   ]
  },
  {
   "cell_type": "code",
   "execution_count": 161,
   "id": "a91ff9bd-52ba-4271-9b2c-ed080b5d2d8f",
   "metadata": {},
   "outputs": [
    {
     "data": {
      "text/plain": [
       "Timestamp\n",
       "2018-01-28 00:00:00    0.023437\n",
       "2018-01-28 00:01:00    0.023404\n",
       "2018-01-28 00:02:00    0.022857\n",
       "2018-01-28 00:03:00    0.023377\n",
       "2018-01-28 00:04:00    0.024971\n",
       "                         ...   \n",
       "2018-01-28 23:55:00    0.019144\n",
       "2018-01-28 23:56:00    0.017007\n",
       "2018-01-28 23:57:00    0.018174\n",
       "2018-01-28 23:58:00    0.017008\n",
       "2018-01-28 23:59:00    0.016807\n",
       "Name: Close, Length: 1440, dtype: float64"
      ]
     },
     "execution_count": 161,
     "metadata": {},
     "output_type": "execute_result"
    }
   ],
   "source": [
    "spread_return = arbitrage_spread[arbitrage_spread>0] / close_bitstamp.loc[\"2018-01-28\"]\n",
    "spread_return"
   ]
  },
  {
   "cell_type": "code",
   "execution_count": 164,
   "id": "9196259a-a2ba-4f53-b747-358d9cb287fb",
   "metadata": {},
   "outputs": [
    {
     "data": {
      "text/plain": [
       "count    1436.000000\n",
       "mean        0.021648\n",
       "std         0.005961\n",
       "min         0.004885\n",
       "25%         0.018369\n",
       "50%         0.021897\n",
       "75%         0.025292\n",
       "max         0.038510\n",
       "Name: Close, dtype: float64"
      ]
     },
     "execution_count": 164,
     "metadata": {},
     "output_type": "execute_result"
    }
   ],
   "source": [
    "spread_return.describe()"
   ]
  },
  {
   "cell_type": "code",
   "execution_count": 162,
   "id": "ce93ff08-94dd-4507-a272-b5fa9479b7dc",
   "metadata": {},
   "outputs": [
    {
     "data": {
      "text/plain": [
       "Timestamp\n",
       "2018-01-28 00:00:00    0.023999\n",
       "2018-01-28 00:01:00    0.023965\n",
       "2018-01-28 00:02:00    0.023392\n",
       "2018-01-28 00:03:00    0.023936\n",
       "2018-01-28 00:04:00    0.025610\n",
       "                         ...   \n",
       "2018-01-28 23:55:00    0.019518\n",
       "2018-01-28 23:56:00    0.017302\n",
       "2018-01-28 23:57:00    0.018510\n",
       "2018-01-28 23:58:00    0.017303\n",
       "2018-01-28 23:59:00    0.017094\n",
       "Name: Close, Length: 1440, dtype: float64"
      ]
     },
     "execution_count": 162,
     "metadata": {},
     "output_type": "execute_result"
    }
   ],
   "source": [
    "spread_return = arbitrage_spread[arbitrage_spread>0] / close_coinbase.loc[\"2018-01-28\"]\n",
    "spread_return"
   ]
  },
  {
   "cell_type": "code",
   "execution_count": 163,
   "id": "dfe4f8cf-4784-4020-9863-16d87ad5c2aa",
   "metadata": {},
   "outputs": [
    {
     "data": {
      "text/plain": [
       "count    1436.000000\n",
       "mean        0.021648\n",
       "std         0.005961\n",
       "min         0.004885\n",
       "25%         0.018369\n",
       "50%         0.021897\n",
       "75%         0.025292\n",
       "max         0.038510\n",
       "Name: Close, dtype: float64"
      ]
     },
     "execution_count": 163,
     "metadata": {},
     "output_type": "execute_result"
    }
   ],
   "source": [
    "spread_return.describe()"
   ]
  },
  {
   "cell_type": "code",
   "execution_count": 153,
   "id": "db63af38-babd-4fb4-a23f-4c730835c9ac",
   "metadata": {},
   "outputs": [],
   "source": [
    "## Create a profitable_trades DataFrame\n",
    "## Showing only those trades where the spread_return is greater than 1%"
   ]
  },
  {
   "cell_type": "code",
   "execution_count": 154,
   "id": "9efb4cf4-a473-45cc-b127-b1f98e996c27",
   "metadata": {},
   "outputs": [
    {
     "data": {
      "text/plain": [
       "Timestamp\n",
       "2018-01-28 00:00:00    0.023437\n",
       "2018-01-28 00:01:00    0.023404\n",
       "2018-01-28 00:02:00    0.022857\n",
       "2018-01-28 00:03:00    0.023377\n",
       "2018-01-28 00:04:00    0.024971\n",
       "                         ...   \n",
       "2018-01-28 23:55:00    0.019144\n",
       "2018-01-28 23:56:00    0.017007\n",
       "2018-01-28 23:57:00    0.018174\n",
       "2018-01-28 23:58:00    0.017008\n",
       "2018-01-28 23:59:00    0.016807\n",
       "Name: Close, Length: 1377, dtype: float64"
      ]
     },
     "execution_count": 154,
     "metadata": {},
     "output_type": "execute_result"
    }
   ],
   "source": [
    "profitable_trades = spread_return[spread_return>.01]\n",
    "profitable_trades"
   ]
  },
  {
   "cell_type": "code",
   "execution_count": 155,
   "id": "bdb453f8-f91c-4a35-b91e-cd446b43dd0d",
   "metadata": {},
   "outputs": [],
   "source": [
    "## Show the summary statistics for the profitable_trades DataFrame"
   ]
  },
  {
   "cell_type": "code",
   "execution_count": 159,
   "id": "027853be-db74-4742-b1e6-fb3a4ea6d286",
   "metadata": {},
   "outputs": [
    {
     "data": {
      "text/plain": [
       "count    1377.000000\n",
       "mean        0.021700\n",
       "std         0.005179\n",
       "min         0.010006\n",
       "25%         0.018666\n",
       "50%         0.021711\n",
       "75%         0.024784\n",
       "max         0.037082\n",
       "Name: Close, dtype: float64"
      ]
     },
     "execution_count": 159,
     "metadata": {},
     "output_type": "execute_result"
    }
   ],
   "source": [
    "profitable_trades.describe()"
   ]
  },
  {
   "cell_type": "code",
   "execution_count": null,
   "id": "248e1dca-e3a3-4434-af3e-92fcaafd0110",
   "metadata": {},
   "outputs": [],
   "source": [
    "# Calculate the available profit for the day"
   ]
  },
  {
   "cell_type": "code",
   "execution_count": 167,
   "id": "a02f7272-81d8-4e3f-a69d-3c6ec1606723",
   "metadata": {},
   "outputs": [
    {
     "data": {
      "text/plain": [
       "Timestamp\n",
       "2018-01-28 00:00:00    268.926030\n",
       "2018-01-28 00:01:00    268.563830\n",
       "2018-01-28 00:02:00    262.626724\n",
       "2018-01-28 00:03:00    268.600644\n",
       "2018-01-28 00:04:00    286.912140\n",
       "                          ...    \n",
       "2018-01-28 23:55:00    215.886408\n",
       "2018-01-28 23:56:00    191.791693\n",
       "2018-01-28 23:57:00    204.946386\n",
       "2018-01-28 23:58:00    191.801356\n",
       "2018-01-28 23:59:00    189.392562\n",
       "Name: Close, Length: 1440, dtype: float64"
      ]
     },
     "execution_count": 167,
     "metadata": {},
     "output_type": "execute_result"
    }
   ],
   "source": [
    "profit = profitable_trades * close_coinbase.loc[\"2018-01-28\"]\n",
    "profit"
   ]
  },
  {
   "cell_type": "code",
   "execution_count": 171,
   "id": "3b67c7f0-7e6b-417d-9106-ba814bc8db9b",
   "metadata": {},
   "outputs": [
    {
     "data": {
      "text/plain": [
       "count    1377.000000\n",
       "mean      248.200339\n",
       "std        59.306210\n",
       "min       112.829571\n",
       "25%       213.329975\n",
       "50%       248.654029\n",
       "75%       285.699300\n",
       "max       422.730772\n",
       "Name: Close, dtype: float64"
      ]
     },
     "execution_count": 171,
     "metadata": {},
     "output_type": "execute_result"
    }
   ],
   "source": [
    "profit_per_trade = profit.dropna()\n",
    "profit_per_trade.describe()"
   ]
  },
  {
   "cell_type": "code",
   "execution_count": 172,
   "id": "4871aa66-7f06-46e5-90ff-32ac9c912142",
   "metadata": {},
   "outputs": [
    {
     "data": {
      "text/plain": [
       "341771.86634198617"
      ]
     },
     "execution_count": 172,
     "metadata": {},
     "output_type": "execute_result"
    }
   ],
   "source": [
    "days_work = profit_per_trade.sum()\n",
    "days_work"
   ]
  },
  {
   "cell_type": "code",
   "execution_count": 173,
   "id": "745badf9-eeb9-4776-8be6-630c7285eb32",
   "metadata": {},
   "outputs": [
    {
     "data": {
      "text/plain": [
       "<AxesSubplot:title={'center':'Arbitrage Profits'}, xlabel='Timestamp'>"
      ]
     },
     "execution_count": 173,
     "metadata": {},
     "output_type": "execute_result"
    },
    {
     "data": {
      "image/png": "[encoded data removed]",
      "text/plain": [
       "<Figure size 432x288 with 1 Axes>"
      ]
     },
     "metadata": {
      "needs_background": "light"
     },
     "output_type": "display_data"
    }
   ],
   "source": [
    "profit_per_trade.plot(title=\"Arbitrage Profits\")"
   ]
  },
  {
   "cell_type": "code",
   "execution_count": 174,
   "id": "b377ce7c-9e16-48c8-88d9-8c8fca6c5601",
   "metadata": {},
   "outputs": [
    {
     "data": {
      "text/plain": [
       "<AxesSubplot:title={'center':'Cumulative Arbitrage Profits'}, xlabel='Timestamp'>"
      ]
     },
     "execution_count": 174,
     "metadata": {},
     "output_type": "execute_result"
    },
    {
     "data": {
      "image/png": "[encoded data removed]",
      "text/plain": [
       "<Figure size 432x288 with 1 Axes>"
      ]
     },
     "metadata": {
      "needs_background": "light"
     },
     "output_type": "display_data"
    }
   ],
   "source": [
    "cumulative_profit = profit_per_trade.cumsum()\n",
    "cumulative_profit.plot(title=\"Cumulative Arbitrage Profits\")"
   ]
  }
 ],
 "metadata": {
  "kernelspec": {
   "display_name": "dev",
   "language": "python",
   "name": "dev"
  },
  "language_info": {
   "codemirror_mode": {
    "name": "ipython",
    "version": 3
   },
   "file_extension": ".py",
   "mimetype": "text/x-python",
   "name": "python",
   "nbconvert_exporter": "python",
   "pygments_lexer": "ipython3",
   "version": "3.7.10"
  }
 },
 "nbformat": 4,
 "nbformat_minor": 5
}
